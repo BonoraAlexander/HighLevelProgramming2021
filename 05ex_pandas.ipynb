{
 "cells": [
  {
   "cell_type": "markdown",
   "metadata": {},
   "source": [
    "This exercise consists in analyzing a dataset containg timing information from a series of Time-to-Digital-Converters (TDC) implemented in a pair of FPGAs. Each measurement (i.e. each row of the input file) consists of a flag that specifies the type of message ('HEAD', which in this case is always 1), two addresses of the TDC providing the signal ('FPGA' and 'TDC_CHANNEL'), and the timing information ('ORBIT_CNT', 'BX_COUNTER', and 'TDC_MEAS'). Each TDC count corresponds to 25/30 ns, whereas a unit of BX_COUNTER corresponds to 25 ns, and the ORBIT_CNT is increased every 'x' BX_COUNTER. This allows to store the time in a similar way to hours, minutes and seconds."
   ]
  },
  {
   "cell_type": "code",
   "execution_count": 1,
   "metadata": {},
   "outputs": [],
   "source": [
    "# If haven't downloaded it yet, please get the data file with wget\n",
    "#!wget https://www.dropbox.com/s/xvjzaxzz3ysphme/data_000637.txt -P ./data/"
   ]
  },
  {
   "cell_type": "markdown",
   "metadata": {},
   "source": [
    "1\\. Create a Pandas DataFrame reading N rows of the `data/data_000637.txt` dataset. Choose N to be smaller than or equal to the maximum number of rows and larger that 10k (check the documentation)."
   ]
  },
  {
   "cell_type": "code",
   "execution_count": 2,
   "metadata": {},
   "outputs": [
    {
     "name": "stdout",
     "output_type": "stream",
     "text": [
      "Checking the documentation:\n",
      "          HEAD  FPGA  TDC_CHANNEL   ORBIT_CNT  BX_COUNTER  TDC_MEAS\n",
      "0           1     0          123  3869200167        2374        26\n",
      "1           1     0          124  3869200167        2374        27\n",
      "2           1     0           63  3869200167        2553        28\n",
      "3           1     0           64  3869200167        2558        19\n",
      "4           1     0           64  3869200167        2760        25\n",
      "...       ...   ...          ...         ...         ...       ...\n",
      "1310715     1     0           62  3869211171         762        14\n",
      "1310716     1     1            4  3869211171         763        11\n",
      "1310717     1     0           64  3869211171         764         0\n",
      "1310718     1     0          139  3869211171         769         0\n",
      "1310719     1     0           61  3869211171         762        18\n",
      "\n",
      "[1310720 rows x 6 columns]\n",
      "Number of rows printed:  939233\n"
     ]
    }
   ],
   "source": [
    "import pandas as pd\n",
    "import numpy as np\n",
    "from random import randint\n",
    "\n",
    "data = pd.read_csv('data/data_000637.txt')\n",
    "df = pd.DataFrame(data)\n",
    "N = randint(10000, 1310720)\n",
    "print('Checking the documentation:\\n',df)\n",
    "print('Number of rows printed: ', N)"
   ]
  },
  {
   "cell_type": "markdown",
   "metadata": {},
   "source": [
    "2\\. Estimate the number of BX in a ORBIT (the value 'x')."
   ]
  },
  {
   "cell_type": "code",
   "execution_count": 3,
   "metadata": {},
   "outputs": [
    {
     "name": "stdout",
     "output_type": "stream",
     "text": [
      "Number of BX in a ORBIT:\n",
      "         ORBIT_CNT  BX_COUNTER\n",
      "0      3869200167      124133\n",
      "1      3869200168       97201\n",
      "2      3869200169      144343\n",
      "3      3869200170      217462\n",
      "4      3869200171      228822\n",
      "...           ...         ...\n",
      "10996  3869211167      361697\n",
      "10997  3869211168      205302\n",
      "10998  3869211169      311322\n",
      "10999  3869211170      277743\n",
      "11000  3869211171        7573\n",
      "\n",
      "[11001 rows x 2 columns]\n"
     ]
    }
   ],
   "source": [
    "df_cntbx = df.loc[:, ['ORBIT_CNT', 'BX_COUNTER']]\n",
    "df_cnt = df.loc[:, ['ORBIT_CNT']]\n",
    "df_bx = df.loc[:, ['BX_COUNTER']]\n",
    "\n",
    "#Commented algorithm because of issues understanding question. This selects 1st and last BX_COUNTER\n",
    "#of an ORBIT_CNT and subtracts one another in order to give all BX_COUNTERS in the interval.\n",
    "'''\n",
    "save_position = 0\n",
    "save_number_bxcounter = 0\n",
    "n_orbits = 0\n",
    "nrows = len(df)\n",
    "for i in range(nrows):\n",
    "    orbit_cnt_int1 = int(df_cnt.iloc[i])\n",
    "    orbit_cnt_int2 = int(df_cnt.iloc[i+1])\n",
    "    if orbit_cnt_int1 != orbit_cnt_int2:\n",
    "        orbit_bx_last = int(df_bx.iloc[i])\n",
    "        orbit_bx_first = int(df_bx.iloc[save_position])\n",
    "        sub = orbit_bx_last-orbit_bx_first\n",
    "        save_number_bxcounter += sub\n",
    "        n_orbits += 1\n",
    "        #print('ORBIT_CNT value:', orbit_cnt_int1, '\\nBX_COUNTER estimation:', sub, '\\n')\n",
    "        save_position = i+1\n",
    "print('BX_COUNTER estimation in 1 orbit:', float(save_number_bxcounter/n_orbits))\n",
    "'''\n",
    "\n",
    "#Algorithm which I consider to be the right EX question where I simply sum all BX_COUNTERS inside an ORBIT_CNT.\n",
    "df_cntbx = df_cntbx.groupby(['ORBIT_CNT'], as_index=False)['BX_COUNTER'].sum()\n",
    "print('Number of BX in a ORBIT:\\n', df_cntbx)"
   ]
  },
  {
   "cell_type": "markdown",
   "metadata": {},
   "source": [
    "3\\. Find out the duration of the data taking in hours, minutes and seconds. You can either make an estimate based on the fraction of the measurements (rows) you read, or perform this check precisely by reading the whole dataset."
   ]
  },
  {
   "cell_type": "code",
   "execution_count": 4,
   "metadata": {},
   "outputs": [
    {
     "name": "stdout",
     "output_type": "stream",
     "text": [
      "HEAD                    1\n",
      "FPGA                    0\n",
      "TDC_CHANNEL           123\n",
      "ORBIT_CNT      3869200167\n",
      "BX_COUNTER           2374\n",
      "TDC_MEAS               26\n",
      "Name: 0, dtype: int64\n",
      "Duration of the data taking of N sample:\n",
      "3 days, 23:44:09.004935\n"
     ]
    }
   ],
   "source": [
    "import datetime\n",
    "\n",
    "X = 3563\n",
    "\n",
    "n_row = 0\n",
    "row_init = df.iloc[n_row]\n",
    "ns_init = row_init['TDC_MEAS']*25/30 + row_init['BX_COUNTER']*25 + row_init['ORBIT_CNT']*X*25\n",
    "                                                   \n",
    "s_init = ns_init *10**-9\n",
    "                                                   \n",
    "print(row_init)\n",
    "print(\"Duration of the data taking of N sample:\")\n",
    "print(str(datetime.timedelta(seconds = s_init)))"
   ]
  },
  {
   "cell_type": "markdown",
   "metadata": {},
   "source": [
    "4\\. Create a new column with the absolute time in ns (as a combination of the other three columns with timing information) since the beginning of the data acquisition."
   ]
  },
  {
   "cell_type": "code",
   "execution_count": 5,
   "metadata": {},
   "outputs": [
    {
     "name": "stdout",
     "output_type": "stream",
     "text": [
      "Dataframe with new column with the absolute time in ns:\n",
      "          HEAD  FPGA  TDC_CHANNEL   ORBIT_CNT  BX_COUNTER  TDC_MEAS  \\\n",
      "0           1     0          123  3869200167        2374        26   \n",
      "1           1     0          124  3869200167        2374        27   \n",
      "2           1     0           63  3869200167        2553        28   \n",
      "3           1     0           64  3869200167        2558        19   \n",
      "4           1     0           64  3869200167        2760        25   \n",
      "...       ...   ...          ...         ...         ...       ...   \n",
      "1310715     1     0           62  3869211171         762        14   \n",
      "1310716     1     1            4  3869211171         763        11   \n",
      "1310717     1     0           64  3869211171         764         0   \n",
      "1310718     1     0          139  3869211171         769         0   \n",
      "1310719     1     0           61  3869211171         762        18   \n",
      "\n",
      "             Row Time  \n",
      "0        3.446490e+14  \n",
      "1        6.892980e+14  \n",
      "2        1.033947e+15  \n",
      "3        1.378596e+15  \n",
      "4        1.723245e+15  \n",
      "...               ...  \n",
      "1310715  4.517377e+20  \n",
      "1310716  4.517380e+20  \n",
      "1310717  4.517384e+20  \n",
      "1310718  4.517387e+20  \n",
      "1310719  4.517390e+20  \n",
      "\n",
      "[1310720 rows x 7 columns]\n"
     ]
    }
   ],
   "source": [
    "X = 3563\n",
    "df['Row Time'] =  (df['TDC_MEAS']*25/30 + df['BX_COUNTER']*25 + df['ORBIT_CNT']*X*25).cumsum()\n",
    "print('Dataframe with new column with the absolute time in ns:\\n', df)"
   ]
  },
  {
   "cell_type": "markdown",
   "metadata": {},
   "source": [
    "5\\. Use the `.groupby()` method to find out the noisy channels, i.e. the TDC channels with most counts (print to screen the top 3 and the corresponding counts)"
   ]
  },
  {
   "cell_type": "code",
   "execution_count": 6,
   "metadata": {},
   "outputs": [
    {
     "name": "stdout",
     "output_type": "stream",
     "text": [
      "TDC channels with most counts:\n",
      "     TDC_MEAS  HEAD  FPGA  TDC_CHANNEL   ORBIT_CNT  BX_COUNTER      Row Time\n",
      "27        27     1     1          130  3869211170        3563  4.517235e+20\n",
      "28        28     1     1          130  3869211171        3563  4.517322e+20\n",
      "29        29     1     1          130  3869211171        3563  4.517349e+20\n"
     ]
    }
   ],
   "source": [
    "df_maxTDC = df.groupby(['TDC_MEAS'], as_index=False).max()\n",
    "print('TDC channels with most counts:\\n', df_maxTDC.iloc[-3:])"
   ]
  },
  {
   "cell_type": "markdown",
   "metadata": {},
   "source": [
    "6\\. Count the number of non-empty orbits (i.e. the number of orbits with at least one hit). Count also the number of unique orbits with at least one measurement from TDC_CHANNEL=139."
   ]
  },
  {
   "cell_type": "code",
   "execution_count": 7,
   "metadata": {},
   "outputs": [
    {
     "name": "stdout",
     "output_type": "stream",
     "text": [
      "Number of non-empty orbits:  0\n",
      "Number of ORBITS_CNT with TDC_CHANNEL=139:  11001\n"
     ]
    }
   ],
   "source": [
    "df1 = df[df.isna().any(axis=1)]\n",
    "print('Number of non-empty orbits: ', df1.shape[0])\n",
    "\n",
    "df_ORBIT = df.groupby(['ORBIT_CNT'], as_index=False)['TDC_CHANNEL'].max()\n",
    "print('Number of ORBITS_CNT with TDC_CHANNEL=139: ', df_ORBIT.shape[0])"
   ]
  },
  {
   "cell_type": "markdown",
   "metadata": {},
   "source": [
    "7\\. **Optional:** Make two occupancy plots (one for each FPGA), i.e. plot the number of counts per TDC channel"
   ]
  },
  {
   "cell_type": "code",
   "execution_count": null,
   "metadata": {},
   "outputs": [],
   "source": []
  }
 ],
 "metadata": {
  "kernelspec": {
   "display_name": "Python 3",
   "language": "python",
   "name": "python3"
  },
  "language_info": {
   "codemirror_mode": {
    "name": "ipython",
    "version": 3
   },
   "file_extension": ".py",
   "mimetype": "text/x-python",
   "name": "python",
   "nbconvert_exporter": "python",
   "pygments_lexer": "ipython3",
   "version": "3.9.5"
  }
 },
 "nbformat": 4,
 "nbformat_minor": 2
}
