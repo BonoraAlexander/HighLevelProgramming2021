{
 "cells": [
  {
   "cell_type": "markdown",
   "metadata": {},
   "source": [
    "1. Write the following expressions using the list comprehension"
   ]
  },
  {
   "cell_type": "code",
   "execution_count": 12,
   "metadata": {},
   "outputs": [
    {
     "name": "stdout",
     "output_type": "stream",
     "text": [
      "[(0, 0), (0, 1), (0, 2), (0, 3), (1, 0), (1, 1), (1, 2), (1, 3), (2, 0), (2, 1), (2, 2), (2, 3)]\n",
      "[1, 9, 25, 49, 81]\n"
     ]
    }
   ],
   "source": [
    "# 1\n",
    "ans = []\n",
    "for i in range(3):\n",
    "    for j in range(4):\n",
    "        ans.append((i, j))\n",
    "print(ans)\n",
    "\n",
    "# 2\n",
    "ans = map(lambda x: x * x, filter(lambda x: x % 2 == 1, range(10)))\n",
    "print(list(ans))"
   ]
  },
  {
   "cell_type": "code",
   "execution_count": 13,
   "metadata": {},
   "outputs": [
    {
     "name": "stdout",
     "output_type": "stream",
     "text": [
      "[(0, 0), (0, 1), (0, 2), (0, 3), (1, 0), (1, 1), (1, 2), (1, 3), (2, 0), (2, 1), (2, 2), (2, 3)]\n",
      "[1, 9, 25, 49, 81]\n"
     ]
    }
   ],
   "source": [
    "#1\n",
    "ans = []\n",
    "ans = [(x,y) for x in range(3) for y in range(4)]\n",
    "print(ans)\n",
    "\n",
    "#2\n",
    "ans = [x*x for x in range(10) if x % 2 == 1]\n",
    "print(ans)"
   ]
  },
  {
   "cell_type": "markdown",
   "metadata": {},
   "source": [
    "2\\. Convert the function $f$ into a function that doesn't use global variables and that does not modify the original list"
   ]
  },
  {
   "cell_type": "code",
   "execution_count": 14,
   "metadata": {},
   "outputs": [
    {
     "name": "stdout",
     "output_type": "stream",
     "text": [
      "[1, 2, 3, 0, 1, 2, 3, 4]\n",
      "[1, 2, 3, 0, 1, 2, 3, 4]\n"
     ]
    }
   ],
   "source": [
    "x = 5\n",
    "def f(alist):\n",
    "    for i in range(x):\n",
    "        alist.append(i)\n",
    "    return alist\n",
    "\n",
    "alist = [1,2,3]\n",
    "ans = f(alist)\n",
    "print(ans)\n",
    "print(alist) # alist has been changed!"
   ]
  },
  {
   "cell_type": "code",
   "execution_count": 15,
   "metadata": {},
   "outputs": [
    {
     "name": "stdout",
     "output_type": "stream",
     "text": [
      "[0, 1, 2, 3, 4]\n",
      "[1, 2, 3]\n"
     ]
    }
   ],
   "source": [
    "def f(alist):\n",
    "    alist=[]\n",
    "    for i in range(5):\n",
    "         alist.append(i)\n",
    "    return alist\n",
    "\n",
    "alist = [1,2,3]\n",
    "print(f(alist))\n",
    "print(alist)"
   ]
  },
  {
   "cell_type": "markdown",
   "metadata": {},
   "source": [
    "3\\. Write a `decorator` hello that makes every wrapped function print “Hello!”, i.e. something like:\n",
    "\n",
    "```python\n",
    "@hello\n",
    "def square(x):\n",
    "    return x*x\n",
    "```\n",
    "\n"
   ]
  },
  {
   "cell_type": "code",
   "execution_count": 16,
   "metadata": {},
   "outputs": [
    {
     "name": "stdout",
     "output_type": "stream",
     "text": [
      "Hello!\n",
      "25\n"
     ]
    }
   ],
   "source": [
    "def hello(func):\n",
    "    def wrapper(x):\n",
    "        print(\"Hello!\")\n",
    "        return func(x)\n",
    "    return wrapper\n",
    "    \n",
    "@hello\n",
    "def square(x):\n",
    "    return x*x\n",
    "print(square(5))"
   ]
  },
  {
   "cell_type": "markdown",
   "metadata": {},
   "source": [
    "4\\. Write the factorial function in two different ways, so that it a) does and b) does not use recursion."
   ]
  },
  {
   "cell_type": "code",
   "execution_count": 17,
   "metadata": {},
   "outputs": [
    {
     "name": "stdout",
     "output_type": "stream",
     "text": [
      "Factorial of  5  is :  120\n",
      "Factorial of  5  is :  120\n"
     ]
    }
   ],
   "source": [
    "#a)\n",
    "#n = input(\"Enter a number: \")\n",
    "\n",
    "n = 5\n",
    "\n",
    "factorial = 1\n",
    "if int(n) >= 1:\n",
    "    for i in range (1,int(n)+1):\n",
    "        factorial = factorial * i\n",
    "print(\"Factorial of \",n , \" is : \",factorial)\n",
    "\n",
    "#b)\n",
    "#num = input(\"Enter a number: \")\n",
    "\n",
    "num = 5\n",
    "\n",
    "def recur_factorial(n):\n",
    "    if n == 1:\n",
    "        return n\n",
    "    elif n < 1:\n",
    "        return (\"NA\")\n",
    "    else:\n",
    "        return n*recur_factorial(n-1)\n",
    "print (\"Factorial of \",n , \" is : \", recur_factorial(int(num)))"
   ]
  },
  {
   "cell_type": "markdown",
   "metadata": {},
   "source": [
    "5\\. Use HOFs (zip in particular) to compute the weight of a circle, a disk and a sphere, assuming different radii and different densities:\n",
    "\n",
    "```python\n",
    "densities = {\"Al\" : [0.5, 1, 2], \"Fe\" : [3, 4, 5], \"Pb\" : [15, 20, 30]}\n",
    "radii = [1, 2, 3]\n",
    "```\n",
    "\n",
    "where the entries of the dictionary's values are the linear, superficial and volumetric densities of the materials respectively.\n",
    "\n",
    "Subsequently, define a list using a comprehension with three lambda functions that compute the circumference, the area and the volume for a given radius.\n"
   ]
  },
  {
   "cell_type": "code",
   "execution_count": 18,
   "metadata": {},
   "outputs": [
    {
     "name": "stdout",
     "output_type": "stream",
     "text": [
      "\n",
      "Radius: 1\n",
      "Al: circle  3.14, disk  3.14, sphere  8.38.\n",
      "Fe: circle  18.85, disk  12.57, sphere  20.94.\n",
      "Pb: circle  94.25, disk  62.83, sphere  125.66.\n",
      "\n",
      "Radius: 2\n",
      "Al: circle  6.28, disk  12.57, sphere  67.02.\n",
      "Fe: circle  37.70, disk  50.27, sphere  167.55.\n",
      "Pb: circle  188.50, disk  251.33, sphere  1005.31.\n",
      "\n",
      "Radius: 3\n",
      "Al: circle  9.42, disk  28.27, sphere  226.19.\n",
      "Fe: circle  56.55, disk  113.10, sphere  565.49.\n",
      "Pb: circle  282.74, disk  565.49, sphere  3392.92.\n",
      "\n",
      "Radius:    1\n",
      "Circumference: 6.28\n",
      "Area: 3.14\n",
      "Volume: 4.19\n",
      "\n",
      "Radius:    2\n",
      "Circumference: 12.57\n",
      "Area: 12.57\n",
      "Volume: 33.51\n",
      "\n",
      "Radius:    3\n",
      "Circumference: 18.85\n",
      "Area: 28.27\n",
      "Volume: 113.10\n"
     ]
    }
   ],
   "source": [
    "import math\n",
    "\n",
    "densities = {\"Al\" : [0.5, 1, 2], \"Fe\" : [3, 4, 5], \"Pb\" : [15, 20, 30]}\n",
    "radii = [1, 2, 3]\n",
    "\n",
    "for x,r in zip(densities,radii):\n",
    "    print(\"\\nRadius: \"+ str(r))\n",
    "    for i in densities:\n",
    "        material = densities[i]\n",
    "        \n",
    "        C = 2*math.pi*r\n",
    "        P1 = C*material[0]\n",
    "        \n",
    "        A = math.pi*pow(r,2)\n",
    "        P2 = A*material[1]\n",
    "        \n",
    "        V = (4/3)*math.pi*pow(r,3)\n",
    "        P3 = V*material[2]\n",
    "        print(i + \": circle \", f\"{P1:4.2f}\"+\",\", 'disk ', f\"{P2:4.2f}\"+\",\", \"sphere \", f\"{P3:4.2f}\"+\".\")\n",
    "\n",
    "circumference = lambda x: 2*math.pi*x\n",
    "area = lambda x: math.pi*pow(x,2)\n",
    "volume = lambda x: (4/3)*math.pi*pow(x,3)\n",
    "\n",
    "listC = [circumference(r) for r in radii]\n",
    "listA = [area(r) for r in radii]\n",
    "listV = [volume(r) for r in radii]\n",
    "\n",
    "for i in range(len(radii)):\n",
    "    print(\"\\nRadius:\", f\"{radii[i]:4.0f}\")\n",
    "    print(\"Circumference:\", f\"{listC[i]:4.2f}\")\n",
    "    print(\"Area:\", f\"{listA[i]:4.2f}\")\n",
    "    print(\"Volume:\", f\"{listV[i]:4.2f}\")"
   ]
  },
  {
   "cell_type": "markdown",
   "metadata": {},
   "source": [
    "6\\. Edit the class defintion to add an instance attribute of `is_hungry = True` to the Dog class. Then add a method called `eat()` which changes the value of `is_hungry` to `False` when called. Figure out the best way to instantiate the dog objects and to feed the dogs, e.g. call the `eat()` method for all instances. Finally, print “My dogs are hungry.” or “My dogs are not hungry.” if all of them have `is_hungry = True` or `False`, respectively. The final output should look like this:\n",
    "\n",
    "`I have 3 dogs. \n",
    "Tom is 6. \n",
    "Fletcher is 7. \n",
    "Larry is 9. \n",
    "And they're all mammals, of course. \n",
    "My dogs are not hungry.\n",
    "`\n",
    "\n",
    "```python\n",
    "# Parent class\n",
    "class Dog:\n",
    "\n",
    "    # Class attribute\n",
    "    species = 'mammal'\n",
    "\n",
    "    # Initializer / Instance attributes\n",
    "    def __init__(self, name, age):\n",
    "        self.name = name\n",
    "        self.age = age\n",
    "\n",
    "    # instance method\n",
    "    def description(self):\n",
    "        return \"{} is {} years old\".format(self.name, self.age)\n",
    "\n",
    "    # instance method\n",
    "    def speak(self, sound):\n",
    "        return \"{} says {}\".format(self.name, sound)\n",
    "\n",
    "# Child class (inherits from Dog class)\n",
    "class RussellTerrier(Dog):\n",
    "    def run(self, speed):\n",
    "        return \"{} runs {}\".format(self.name, speed)\n",
    "\n",
    "# Child class (inherits from Dog class)\n",
    "class Bulldog(Dog):\n",
    "    def run(self, speed):\n",
    "        return \"{} runs {}\".format(self.name, speed)\n",
    "```"
   ]
  },
  {
   "cell_type": "code",
   "execution_count": 19,
   "metadata": {
    "scrolled": true
   },
   "outputs": [
    {
     "name": "stdout",
     "output_type": "stream",
     "text": [
      "I have 3 dogs.\n",
      "Tom is 6.\n",
      "Fletcher is 7.\n",
      "Larry is 9.\n",
      "And they are all mammals, of course.\n",
      "My dogs are not hungry.\n"
     ]
    }
   ],
   "source": [
    "# Parent class\n",
    "class Dog:\n",
    "\n",
    "    # Class attribute\n",
    "    species = 'mammal'\n",
    "\n",
    "    # Initializer / Instance attributes\n",
    "    def __init__(self, name, age):\n",
    "        self.name = name\n",
    "        self.age = age\n",
    "        self.is_hungry = True\n",
    "        \n",
    "    # instance method\n",
    "    def eat(self):\n",
    "        self.is_hungry = False\n",
    "        return self.is_hungry\n",
    "\n",
    "    # instance method\n",
    "    def description(self):\n",
    "        return \"{} is {} years old\".format(self.name, self.age)\n",
    "\n",
    "    # instance method\n",
    "    def speak(self, sound):\n",
    "        return \"{} says {}\".format(self.name, sound)\n",
    "\n",
    "# Child class (inherits from Dog class)\n",
    "class RussellTerrier(Dog):\n",
    "    def run(self, speed):\n",
    "        return \"{} runs {}\".format(self.name, speed)\n",
    "\n",
    "# Child class (inherits from Dog class)\n",
    "class Bulldog(Dog):\n",
    "    def run(self, speed):\n",
    "        return \"{} runs {}\".format(self.name, speed)\n",
    "    \n",
    "puppy = [Dog(\"Tom\", 6), Dog(\"Fletcher\", 7), Dog(\"Larry\", 9)] # When \"puppy\" object is instantiated, the parent class \"Pet\" constructor is called\n",
    "\n",
    "print(\"I have\", len(puppy), \"dogs.\")\n",
    "\n",
    "for i in puppy:\n",
    "    age_convert = str(i.age)\n",
    "    print(i.name, \"is\", age_convert+\".\") \n",
    "    \n",
    "counter = 0 \n",
    "for i in puppy:\n",
    "    if i.species == \"mammal\":\n",
    "        counter = counter+1              #checks if they are mammals\n",
    "if counter == len(puppy):\n",
    "    print(\"And they are all mammals, of course.\")\n",
    "else: \n",
    "    print(\"They are not all mammals.\")       \n",
    "      \n",
    "for i in puppy:\n",
    "    if i.is_hungry == True:\n",
    "        i.eat()\n",
    "\n",
    "counter = 0\n",
    "for i in puppy:\n",
    "    if i.is_hungry == True:          #checks how many are hungry\n",
    "        counter = counter+1\n",
    "                                        \n",
    "if counter == len(puppy):\n",
    "    print(\"My dogs are hungry\")\n",
    "elif counter == 0: \n",
    "    print(\"My dogs are not hungry.\")"
   ]
  },
  {
   "cell_type": "code",
   "execution_count": null,
   "metadata": {},
   "outputs": [],
   "source": []
  }
 ],
 "metadata": {
  "kernelspec": {
   "display_name": "Python 3",
   "language": "python",
   "name": "python3"
  },
  "language_info": {
   "codemirror_mode": {
    "name": "ipython",
    "version": 3
   },
   "file_extension": ".py",
   "mimetype": "text/x-python",
   "name": "python",
   "nbconvert_exporter": "python",
   "pygments_lexer": "ipython3",
   "version": "3.9.5"
  }
 },
 "nbformat": 4,
 "nbformat_minor": 2
}
