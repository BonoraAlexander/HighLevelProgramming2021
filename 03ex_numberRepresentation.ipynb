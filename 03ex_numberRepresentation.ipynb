{
 "cells": [
  {
   "cell_type": "markdown",
   "metadata": {},
   "source": [
    "1\\. Write a function that converts numbers among the bin, dec, and hex representations (bin<->dec<->hex)"
   ]
  },
  {
   "cell_type": "code",
   "execution_count": 21,
   "metadata": {},
   "outputs": [
    {
     "name": "stdout",
     "output_type": "stream",
     "text": [
      "Binary representation of 20 : 0b10100\n",
      "Decimal representation of 0b10100 : 20\n",
      "Hexadecimal representation of 20 : 0x14\n",
      "Decimal representation of 0x14 : 20\n",
      "Binary representation of 0x14 : 0b10100\n",
      "Hexadecimal representation of 0b10100 : 0x14\n"
     ]
    }
   ],
   "source": [
    "# \n",
    "def convert(a):\n",
    "    \n",
    "    # binary representation\n",
    "    a_bin = bin(a)\n",
    "    print('Binary representation of', a, ':', a_bin)\n",
    "    \n",
    "    # decimal representation\n",
    "    print('Decimal representation of', a_bin, ':', int(a_bin, 2))\n",
    "\n",
    "    \n",
    "    # hexadecimal representation\n",
    "    a_hex = hex(a)\n",
    "    print('Hexadecimal representation of', a, ':', a_hex)\n",
    "    \n",
    "    # decimal representation\n",
    "    print('Decimal representation of', a_hex, ':', int(a_hex, 16))\n",
    "    \n",
    "    # binary representation\n",
    "    a_bin = bin(int(a_hex, 16))\n",
    "    print('Binary representation of', a_hex, ':', a_bin)\n",
    "    \n",
    "    # hexadecimal representation\n",
    "    a_hex = hex(int(a_bin, 2))\n",
    "    print('Hexadecimal representation of', a_bin, ':', a_hex)\n",
    "    \n",
    "    \n",
    "        \n",
    "        \n",
    "a = 20\n",
    "convert(a)"
   ]
  },
  {
   "cell_type": "markdown",
   "metadata": {},
   "source": [
    "2\\. Write a function that converts a 32 bit word into a single precision floating point (i.e. interprets the various bits as sign, mantissa and exponent) and check its validity."
   ]
  },
  {
   "cell_type": "code",
   "execution_count": 13,
   "metadata": {},
   "outputs": [
    {
     "name": "stdout",
     "output_type": "stream",
     "text": [
      "2.8421709430404007e-13\n"
     ]
    }
   ],
   "source": [
    "def convertion(word):\n",
    "    sign = int(word[31])               #takes sign\n",
    "    exp = word[23:31]\n",
    "    exp = reversed(exp)                #exponent operations\n",
    "    exp = \"\".join([str(i) for i in exp])\n",
    "    exp_dec = int(exp,2)\n",
    "    mant = word[0:23]                  #mantissa operations\n",
    "    mant = list(mant)\n",
    "    mant.reverse()\n",
    "    mant_dec = 0\n",
    "    \n",
    "    for i in range(len(mant)):\n",
    "        temp = int(mant[i])\n",
    "        if temp == 1:\n",
    "            mant_dec += pow(2,-(i+1))\n",
    "            \n",
    "    n = (1+mant_dec)*pow(2,exp_dec-127)\n",
    "    \n",
    "    res = 0\n",
    "    if sign == 0:                 #result with addition of sign\n",
    "        res = n\n",
    "    else:\n",
    "        res = -n    \n",
    "    return res\n",
    "\n",
    "word = \"00000000000000000000010101010100\"\n",
    "print(convertion(word))"
   ]
  },
  {
   "cell_type": "markdown",
   "metadata": {},
   "source": [
    "3\\. Write a program to determine the underflow and overflow limits (within a factor of 2) for python on your computer. \n",
    "\n",
    "**Tip**: define two variables initialized to 1 and halve/double them for a sufficient amount of times to exceed the under/over-flow limits  "
   ]
  },
  {
   "cell_type": "code",
   "execution_count": 14,
   "metadata": {},
   "outputs": [
    {
     "name": "stdout",
     "output_type": "stream",
     "text": [
      "1024 overflow iteration  =   inf\n",
      "1075 underflow iteration  =   0.00000e+00\n"
     ]
    }
   ],
   "source": [
    "import math\n",
    "\n",
    "double = 1.0\n",
    "halve = 1.0\n",
    "check_over = math.inf\n",
    "check_under = 0.0\n",
    "i = 0\n",
    "\n",
    "while(double.hex() != check_over.hex()):\n",
    "    double = double*2\n",
    "    i += 1\n",
    "print(i, \"overflow iteration  =  \", \"%2.5e\"%double) #last number before overflow n = 1023\n",
    "\n",
    "i = 0\n",
    "while(halve.hex() != check_under.hex()):\n",
    "    halve = halve/2\n",
    "    i += 1\n",
    "print(i, \"underflow iteration  =  \", \"%2.5e\"%halve) #last number before underflow n = 1074"
   ]
  },
  {
   "cell_type": "markdown",
   "metadata": {},
   "source": [
    "4\\. Write a program to determine the machine precision\n",
    "\n",
    "**Tip**: define a new variable by adding an increasingly smaller value (in the same way as the previous problem) and check when the addition starts to have no effect on the number"
   ]
  },
  {
   "cell_type": "code",
   "execution_count": 15,
   "metadata": {},
   "outputs": [
    {
     "name": "stdout",
     "output_type": "stream",
     "text": [
      "Found precision = 1.7763568394002505e-15\n"
     ]
    }
   ],
   "source": [
    "n = 200\n",
    "smaller = 1\n",
    "original = 20.0\n",
    "flag = True\n",
    "i = 0 \n",
    "\n",
    "while(i in range(n) and flag == True):\n",
    "    temp = original+smaller \n",
    "    if original.hex() == temp.hex(): \n",
    "        print(\"Found precision =\", smaller)\n",
    "        flag = False\n",
    "    smaller = smaller/2"
   ]
  },
  {
   "cell_type": "markdown",
   "metadata": {},
   "source": [
    "5\\. Write a function that takes in input three parameters $a$, $b$ and $c$ and prints out the two solutions to the quadratic equation $ax^2+bx+c=0$ using the standard formula:\n",
    "$$\n",
    "x=\\frac{-b\\pm\\sqrt{b^2-4ac}}{2a}\n",
    "$$\n",
    "\n",
    "(a) use the program to compute the solution for $a=0.001$, $b=1000$ and $c=0.001$\n",
    "\n",
    "(b) re-express the standard solution formula by multiplying the numerator and the denominator by $-b\\mp\\sqrt{b^2-4ac}$ and again find the solution for $a=0.001$, $b=1000$ and $c=0.001$. How does it compare with what has been previously obtained, and why?\n",
    "\n",
    "(c) write a function that computes the roots of a quadratic equation accurately in all cases"
   ]
  },
  {
   "cell_type": "code",
   "execution_count": 19,
   "metadata": {
    "scrolled": true
   },
   "outputs": [
    {
     "name": "stdout",
     "output_type": "stream",
     "text": [
      "\n",
      "Factors to multiply num and denom of x1 and x2 = -1999.999999998 -1.999978849198669e-09\n",
      "result1 =(-9.999894245993346e-07, -999999.999999)\n",
      "\n",
      "result2 =(-9.999894245993346e-07, -999999.9999990001)\n",
      "\n",
      "As we can see x1 remains the same, while x2 changes and is greater than before.\n",
      "The reason is that float have limited precision. Even by multiplying -b-math.sqrt(b**2-4*a*c)\n",
      "both at the num and den we can't hold the result of the fraction at 1.\n",
      "\n",
      "Real and different roots =\n",
      "result3 =(-9.999894245993346e-07, -999999.999999)\n"
     ]
    }
   ],
   "source": [
    "import math\n",
    "\n",
    "def quadratic_eq(a, b, c):\n",
    "    x1 = (-b+math.sqrt(b**2-4*a*c))/(2*a)\n",
    "    x2 = (-b-math.sqrt(b**2-4*a*c))/(2*a)\n",
    "    return(x1, x2)\n",
    "\n",
    "def quadratic_eq_mult(a, b, c):\n",
    "    multiply_x1 = -b-math.sqrt(b**2-4*a*c)\n",
    "    multiply_x2 = -b+math.sqrt(b**2-4*a*c)\n",
    "    print(\"\\nFactors to multiply num and denom of x1 and x2 =\", multiply_x1, multiply_x2)\n",
    "    x1 = ((-b+math.sqrt(b**2-4*a*c))*multiply_x1)/((2*a)*multiply_x1)\n",
    "    x2 = ((-b-math.sqrt(b**2-4*a*c))*multiply_x2)/((2*a)*multiply_x2)\n",
    "    return(x1, x2)\n",
    "\n",
    "def quadratic_eq_mult_corr(a, b, c):\n",
    "    delta = b**2-4*a*c\n",
    "    if delta > 0: \n",
    "        print(\"\\nReal and different roots =\") \n",
    "        x1 = (-b+math.sqrt(delta))/(2*a)\n",
    "        x2 = (-b-math.sqrt(delta))/(2*a)\n",
    "        return(x1, x2)\n",
    "      \n",
    "    elif delta == 0: \n",
    "        print(\"\\nReal and same roots =\")\n",
    "        x1 = x2 = -b/(2*a)\n",
    "        return(x1, x2)\n",
    "      \n",
    "    # when discriminant is less than 0\n",
    "    else:\n",
    "        print(\"\\nComplex Roots\") \n",
    "        x1 = -b/(2*a), \" + i\", sqrt_val\n",
    "        x2 = -b/(2*a), \" - i\", sqrt_val\n",
    "        return(x1, x2)\n",
    "\n",
    "r1 = quadratic_eq(0.001, 1000, 0.001)\n",
    "\n",
    "r2 = quadratic_eq_mult(0.001, 1000, 0.001)\n",
    "\n",
    "print(\"result1 =\" + str(r1))\n",
    "print(\"\\nresult2 =\" + str(r2))\n",
    "print(\"\\nAs we can see x1 remains the same, while x2 changes and is greater than before.\")\n",
    "print(\"The reason is that float have limited precision. Even by multiplying -b-math.sqrt(b**2-4*a*c)\")\n",
    "print(\"both at the num and den we can't hold the result of the fraction at 1.\")\n",
    "r3 = quadratic_eq_mult_corr(0.001, 1000, 0.001)\n",
    "print(\"result3 =\" + str(r3))"
   ]
  },
  {
   "cell_type": "markdown",
   "metadata": {},
   "source": [
    "6\\. Write a program that implements the function $f(x)=x(x−1)$\n",
    "\n",
    "(a) Calculate the derivative of the function at the point $x = 1$ using the derivative definition:\n",
    "\n",
    "$$\n",
    "\\frac{{\\rm d}f}{{\\rm d}x} = \\lim_{\\delta\\to0} \\frac{f(x+\\delta)-f(x)}{\\delta}\n",
    "$$\n",
    "\n",
    "with $\\delta = 10^{−2}$. Calculate the true value of the same derivative analytically and compare it with the answer your program gives. The two will not agree perfectly. Why?\n",
    "\n",
    "(b) Repeat the calculation for $\\delta = 10^{−4}, 10^{−6}, 10^{−8}, 10^{−10}, 10^{−12}$ and $10^{−14}$. How does the accuracy scales with $\\delta$?"
   ]
  },
  {
   "cell_type": "code",
   "execution_count": 17,
   "metadata": {},
   "outputs": [
    {
     "name": "stdout",
     "output_type": "stream",
     "text": [
      "For delta = 0.01 : 1.010000000000001\n",
      "For delta = 0.0001 : 1.0000999999998899\n",
      "For delta = 1e-06 : 1.0000009999177333\n",
      "For delta = 1e-08 : 1.0000000039225287\n",
      "For delta = 1e-10 : 1.000000082840371\n",
      "For delta = 1e-12 : 1.0000889005833413\n",
      "For delta = 1e-14 : 0.9992007221626509\n",
      "\n",
      "By decreasing delta we can notice that the accuracy of the result increases,\n",
      "although more iterations can't be calculated by the computer.\n"
     ]
    }
   ],
   "source": [
    "# Define a number x\n",
    "x = 1\n",
    "\n",
    "# function f(x)\n",
    "def f(x):\n",
    "    return x*(x-1)\n",
    "\n",
    "e = 2\n",
    "delta = pow(10, -e)\n",
    "\n",
    "y = (f(x+delta)-f(x))/delta\n",
    "print(\"For delta =\", delta, \":\", y)\n",
    "\n",
    "for e in range(-4, -16, -2):\n",
    "    delta = pow(10, e)\n",
    "    y = (f(x+delta)-f(x))/delta\n",
    "    print(\"For delta =\", delta, \":\", y)\n",
    "    \n",
    "print(\"\\nBy decreasing delta we can notice that the accuracy of the result increases,\")\n",
    "print(\"although more iterations can't be calculated by the computer.\")"
   ]
  },
  {
   "cell_type": "markdown",
   "metadata": {},
   "source": [
    "7\\. Consider the integral of the semicircle of radius 1:\n",
    "$$\n",
    "I=\\int_{-1}^{1} \\sqrt(1-x^2) {\\rm d}x\n",
    "$$\n",
    "which is known to be $I=\\frac{\\pi}{2}=1.57079632679...$.\n",
    "\n",
    "Alternatively we can use the Riemann definition of the integral:\n",
    "$$\n",
    "I=\\lim_{N\\to\\infty} \\sum_{k=1}^{N} h y_k \n",
    "$$\n",
    "\n",
    "with $h=2/N$ the width of each of the $N$ slices the domain is divided into and where\n",
    "$y_k$ is the value of the function at the $k-$th slice.\n",
    "\n",
    "(a) Write a program to compute the integral with $N=100$. How does the result compare to the true value?\n",
    "\n",
    "(b) How much can $N$ be increased if the computation needs to be run in less than a second? What is the gain in running it for 1 minute? \n"
   ]
  },
  {
   "cell_type": "code",
   "execution_count": 22,
   "metadata": {},
   "outputs": [
    {
     "name": "stdout",
     "output_type": "stream",
     "text": [
      "For N = 100 I = 1.5691342555492505\n",
      "\n",
      "Runtime of the program is 59.56266713142395s\n",
      "For N= 180000000 I = 1.5707963267946565\n",
      "\n",
      "Runtime of the program is 1.0193819999694824s\n",
      "For N= 3000000 I = 1.5707963264747942\n",
      "\n",
      "N can be increased up to: 180000000\n",
      "The gain in running 60s instead of 1s is: 3.198623588218652e-10\n"
     ]
    }
   ],
   "source": [
    "import math\n",
    "import time\n",
    "\n",
    "N1 = 100\n",
    "h1 = 2/N1\n",
    "I1 = 0\n",
    "\n",
    "\n",
    "for k in range(1, N1+1):                #yk = #value of k-th slice\n",
    "    yk = math.sqrt(1-(h1*k-1)**2)       #iteration for N=100\n",
    "    I1 = I1+abs(h1*yk)\n",
    "print(\"For N =\", k, \"I =\", I1)\n",
    "\n",
    "\n",
    "\n",
    "k = 0\n",
    "N2 = 180000000\n",
    "h2 = 2/N2\n",
    "I2 = 0\n",
    "\n",
    "start = time.time()\n",
    "\n",
    "for k in range(1, N2+1):\n",
    "    yk = math.sqrt(1-(h2*k-1)**2)          #iteration for 60s\n",
    "    I2 = I2+abs(h2*yk)\n",
    "end = time.time()\n",
    "print(f\"\\nRuntime of the program is {end - start}s\")\n",
    "print(\"For N=\", k, \"I =\", I2)\n",
    "\n",
    "k = 0\n",
    "N3 = 3000000\n",
    "h3 = 2/N3\n",
    "I3 = 0\n",
    "\n",
    "start = time.time()\n",
    "\n",
    "for k in range(1, N3+1):\n",
    "    yk = math.sqrt(1-(h3*k-1)**2)       #iteration for 1s\n",
    "    I3 = I3+abs(h3*yk)\n",
    "end = time.time()\n",
    "\n",
    "print(f\"\\nRuntime of the program is {end - start}s\")\n",
    "print(\"For N=\", k, \"I =\", I3)\n",
    "print(\"\\nN can be increased up to:\", N2)\n",
    "print(\"The gain in running 60s instead of 1s is:\", I2-I3)\n"
   ]
  },
  {
   "cell_type": "code",
   "execution_count": null,
   "metadata": {},
   "outputs": [],
   "source": []
  }
 ],
 "metadata": {
  "kernelspec": {
   "display_name": "Python 3",
   "language": "python",
   "name": "python3"
  },
  "language_info": {
   "codemirror_mode": {
    "name": "ipython",
    "version": 3
   },
   "file_extension": ".py",
   "mimetype": "text/x-python",
   "name": "python",
   "nbconvert_exporter": "python",
   "pygments_lexer": "ipython3",
   "version": "3.9.5"
  }
 },
 "nbformat": 4,
 "nbformat_minor": 2
}
