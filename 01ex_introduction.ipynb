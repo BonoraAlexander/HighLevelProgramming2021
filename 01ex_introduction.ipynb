{
 "cells": [
  {
   "cell_type": "markdown",
   "metadata": {},
   "source": [
    "1. The HelloWorld replacement\n",
    "\n",
    "a) Write a program that prints the numbers from 1 to 100. But for multiples of three print \"Hello\" instead of the number and for the multiples of five print \"World\". For numbers which are multiples of both three and five print \"HelloWorld\".\n",
    "\n",
    "b) Put the result in a tuple and substitute \"Hello\" with \"Python\" and \"World\" with \"Works\"."
   ]
  },
  {
   "cell_type": "code",
   "execution_count": 1,
   "metadata": {},
   "outputs": [
    {
     "name": "stdout",
     "output_type": "stream",
     "text": [
      "a)\n",
      "1\n",
      "2\n",
      "Hello\n",
      "4\n",
      "World\n",
      "Hello\n",
      "7\n",
      "8\n",
      "Hello\n",
      "World\n",
      "11\n",
      "Hello\n",
      "13\n",
      "14\n",
      "HelloWorld\n",
      "16\n",
      "17\n",
      "Hello\n",
      "19\n",
      "World\n",
      "Hello\n",
      "22\n",
      "23\n",
      "Hello\n",
      "World\n",
      "26\n",
      "Hello\n",
      "28\n",
      "29\n",
      "HelloWorld\n",
      "31\n",
      "32\n",
      "Hello\n",
      "34\n",
      "World\n",
      "Hello\n",
      "37\n",
      "38\n",
      "Hello\n",
      "World\n",
      "41\n",
      "Hello\n",
      "43\n",
      "44\n",
      "HelloWorld\n",
      "46\n",
      "47\n",
      "Hello\n",
      "49\n",
      "World\n",
      "Hello\n",
      "52\n",
      "53\n",
      "Hello\n",
      "World\n",
      "56\n",
      "Hello\n",
      "58\n",
      "59\n",
      "HelloWorld\n",
      "61\n",
      "62\n",
      "Hello\n",
      "64\n",
      "World\n",
      "Hello\n",
      "67\n",
      "68\n",
      "Hello\n",
      "World\n",
      "71\n",
      "Hello\n",
      "73\n",
      "74\n",
      "HelloWorld\n",
      "76\n",
      "77\n",
      "Hello\n",
      "79\n",
      "World\n",
      "Hello\n",
      "82\n",
      "83\n",
      "Hello\n",
      "World\n",
      "86\n",
      "Hello\n",
      "88\n",
      "89\n",
      "HelloWorld\n",
      "91\n",
      "92\n",
      "Hello\n",
      "94\n",
      "World\n",
      "Hello\n",
      "97\n",
      "98\n",
      "Hello\n",
      "World\n",
      "--------------------------------------\n",
      "b)\n",
      "(1, 2, 'Python', 4, 'Works', 'Python', 7, 8, 'Python', 'Works', 11, 'Python', 13, 14, 'PythonWorks', 16, 17, 'Python', 19, 'Works', 'Python', 22, 23, 'Python', 'Works', 26, 'Python', 28, 29, 'PythonWorks', 31, 32, 'Python', 34, 'Works', 'Python', 37, 38, 'Python', 'Works', 41, 'Python', 43, 44, 'PythonWorks', 46, 47, 'Python', 49, 'Works', 'Python', 52, 53, 'Python', 'Works', 56, 'Python', 58, 59, 'PythonWorks', 61, 62, 'Python', 64, 'Works', 'Python', 67, 68, 'Python', 'Works', 71, 'Python', 73, 74, 'PythonWorks', 76, 77, 'Python', 79, 'Works', 'Python', 82, 83, 'Python', 'Works', 86, 'Python', 88, 89, 'PythonWorks', 91, 92, 'Python', 94, 'Works', 'Python', 97, 98, 'Python', 'Works')\n"
     ]
    }
   ],
   "source": [
    "# a)\n",
    "print(\"a)\")\n",
    "i=1\n",
    "for i in range(1,101):\n",
    "    if i%3 == 0 and i%5 == 0: print(\"HelloWorld\")\n",
    "    elif i%3 == 0: print (\"Hello\")\n",
    "    elif i%5 == 0: print (\"World\")\n",
    "    else: print(i)\n",
    "\n",
    "print(\"--------------------------------------\")        \n",
    "# b)\n",
    "print(\"b)\")\n",
    "tp = (1,)\n",
    "for i in range(2,101):\n",
    "    tp_temp = (i,)\n",
    "    if i%3 == 0 and i%5== 0:\n",
    "        tp_temp = (\"PythonWorks\",)\n",
    "        tp = (tp+tp_temp)\n",
    "    elif i%3 == 0:\n",
    "        tp_temp = (\"Python\",)\n",
    "        tp = (tp+tp_temp)\n",
    "    elif i%5 == 0:\n",
    "        tp_temp = (\"Works\",)\n",
    "        tp = (tp+tp_temp)\n",
    "    else:\n",
    "        tp = (tp+tp_temp)\n",
    "print(tp)"
   ]
  },
  {
   "cell_type": "markdown",
   "metadata": {},
   "source": [
    "2\\. The swap function\n",
    "\n",
    "Write a function that swap the values of two input variables x and y (whatever the type). Try to do that also without a temporary variable"
   ]
  },
  {
   "cell_type": "code",
   "execution_count": 2,
   "metadata": {},
   "outputs": [
    {
     "name": "stdout",
     "output_type": "stream",
     "text": [
      "(x,y) = (3, 5)\n",
      "--------------------------------------\n",
      "Swapped(x,y) = (5, 3)\n",
      "--------------------------------------\n",
      "Swapped(x,y) = (5, 3)\n"
     ]
    }
   ],
   "source": [
    "#x = input(\"set the value of x=\")\n",
    "#y = input(\"set the value of y=\")\n",
    "\n",
    "x = 3\n",
    "y = 5\n",
    "\n",
    "print(\"(x,y) =\", \"(\"+str(x)+\",\", str(y)+\")\")\n",
    "print(\"--------------------------------------\")\n",
    "\n",
    "def swap(x,y):\n",
    "    z = x\n",
    "    x = y\n",
    "    y = z\n",
    "    return (x, y)\n",
    "\n",
    "print(\"Swapped(x,y) =\", swap(x, y))\n",
    "\n",
    "print(\"--------------------------------------\")\n",
    "\n",
    "\n",
    "def swap_no_temp(x,y):\n",
    "    return (y, x)\n",
    "\n",
    "print(\"Swapped(x,y) =\", swap_no_temp(x, y))"
   ]
  },
  {
   "cell_type": "markdown",
   "metadata": {},
   "source": [
    "3\\. Computing the distance\n",
    "\n",
    "Write a function that calculates and returns the euclidean distance between two points *u* and *v*, where *u* and *v* are both 2-tuples *(x,y)*. For example, if *u=(3,0)* and *v=(0,4)*, the function should return 5"
   ]
  },
  {
   "cell_type": "code",
   "execution_count": 3,
   "metadata": {},
   "outputs": [
    {
     "name": "stdout",
     "output_type": "stream",
     "text": [
      "Euclidean Distance between u and w:  2.8284271247461903\n"
     ]
    }
   ],
   "source": [
    "import math\n",
    "#x = int(input(\"set the value of x = \"))\n",
    "#y = int(input(\"set the value of y = \"))\n",
    "#w = int(input(\"set the value of w = \"))\n",
    "#z = int(input(\"set the value of z = \"))\n",
    "\n",
    "x = 4\n",
    "y = 5\n",
    "w = 2\n",
    "z = 3\n",
    "\n",
    "u = (x, y)\n",
    "v = (w, z)\n",
    "\n",
    "def euc_d(u, v):\n",
    "    d = math.sqrt((u[0] - v[0])**2 + (u[1] - v[1])**2)\n",
    "    return(d)\n",
    "\n",
    "print(\"Euclidean Distance between u and w: \", euc_d(u, v))"
   ]
  },
  {
   "cell_type": "markdown",
   "metadata": {},
   "source": [
    "#### 4\\. Counting letters\n",
    "\n",
    "Write a program to calculate the number of times each character occurs in a given string *s*. Ignore differences in capitalization"
   ]
  },
  {
   "cell_type": "code",
   "execution_count": 4,
   "metadata": {},
   "outputs": [
    {
     "name": "stdout",
     "output_type": "stream",
     "text": [
      "{'w': 4, 'r': 19, 'i': 12, 't': 19, 'e': 20, ' ': 41, 'a': 7, 'p': 8, 'o': 15, 'g': 1, 'm': 8, 'h': 11, 'n': 10, 's': 7, 'u': 7, 'b': 5, 'f': 10, '1': 2, '0': 2, '.': 3, 'l': 12, 'd': 5, 'v': 2, 'c': 1}\n",
      "w appears 4 times\n",
      "r appears 19 times\n",
      "i appears 12 times\n",
      "t appears 19 times\n",
      "e appears 20 times\n",
      "  appears 41 times\n",
      "a appears 7 times\n",
      "p appears 8 times\n",
      "o appears 15 times\n",
      "g appears 1 times\n",
      "m appears 8 times\n",
      "h appears 11 times\n",
      "n appears 10 times\n",
      "s appears 7 times\n",
      "u appears 7 times\n",
      "b appears 5 times\n",
      "f appears 10 times\n",
      "1 appears 2 times\n",
      "0 appears 2 times\n",
      ". appears 3 times\n",
      "l appears 12 times\n",
      "d appears 5 times\n",
      "v appears 2 times\n",
      "c appears 1 times\n"
     ]
    }
   ],
   "source": [
    "s = \"Write a program that prints the numbers from 1 to 100. \\\n",
    "But for multiples of three print Hello instead of the number and for the multiples of five print World. \\\n",
    "For numbers which are multiples of both three and five print HelloWorld.\"\n",
    "d = {}\n",
    "def number_of_char(s):\n",
    "   \n",
    "    for char in s:\n",
    "        convert_char = char.lower()\n",
    "        if convert_char not in d:\n",
    "            d[convert_char] = 1\n",
    "        else:\n",
    "            d[convert_char] += 1\n",
    "    return d\n",
    "\n",
    "print(number_of_char(s))\n",
    "for k, v in d.items():\n",
    "    print(k, \"appears\", v, \"times\")"
   ]
  },
  {
   "cell_type": "markdown",
   "metadata": {},
   "source": [
    "5\\. Isolating the unique\n",
    "\n",
    "Write a function that determines and count the unique numbers in the list:"
   ]
  },
  {
   "cell_type": "code",
   "execution_count": 5,
   "metadata": {},
   "outputs": [],
   "source": [
    "l = [36, 45, 58, 3, 74, 96, 64, 45, 31, 10, 24, 19, 33, 86, 99, 18, 63, 70, 85,\n",
    " 85, 63, 47, 56, 42, 70, 84, 88, 55, 20, 54, 8, 56, 51, 79, 81, 57, 37, 91,\n",
    " 1, 84, 84, 36, 66, 9, 89, 50, 42, 91, 50, 95, 90, 98, 39, 16, 82, 31, 92, 41,\n",
    " 45, 30, 66, 70, 34, 85, 94, 5, 3, 36, 72, 91, 84, 34, 87, 75, 53, 51, 20, 89, 51, 20]"
   ]
  },
  {
   "cell_type": "code",
   "execution_count": 6,
   "metadata": {},
   "outputs": [
    {
     "name": "stdout",
     "output_type": "stream",
     "text": [
      "Unique list : [58, 74, 96, 64, 10, 24, 19, 33, 86, 99, 18, 47, 88, 55, 54, 8, 79, 81, 57, 37, 1, 9, 95, 90, 98, 39, 16, 82, 92, 41, 30, 94, 5, 72, 87, 75, 53]\n",
      "Unique numbers : 37\n"
     ]
    }
   ],
   "source": [
    "l = [36, 45, 58, 3, 74, 96, 64, 45, 31, 10, 24, 19, 33, 86, 99, 18, 63, 70, 85,\n",
    " 85, 63, 47, 56, 42, 70, 84, 88, 55, 20, 54, 8, 56, 51, 79, 81, 57, 37, 91,\n",
    " 1, 84, 84, 36, 66, 9, 89, 50, 42, 91, 50, 95, 90, 98, 39, 16, 82, 31, 92, 41,\n",
    " 45, 30, 66, 70, 34, 85, 94, 5, 3, 36, 72, 91, 84, 34, 87, 75, 53, 51, 20, 89, 51, 20]\n",
    "\n",
    "def unique_list(l):\n",
    "    unique_l = []\n",
    "    for i in range(0, len(l)):\n",
    "        k = 0\n",
    "        rep = 0\n",
    "        for k in range(0, len(l)):\n",
    "            if k != i and l[k] == l[i]:\n",
    "                rep = rep+1\n",
    "        if rep == 0:\n",
    "            unique_l = unique_l+[l[i]]\n",
    "    return(unique_l)\n",
    "\n",
    "def count(unique_l):\n",
    "    return len(unique_l)\n",
    "\n",
    "unique_l = unique_list(l)\n",
    "\n",
    "\n",
    "print(\"Unique list :\", unique_list(l))\n",
    "print(\"Unique numbers :\", count(unique_l))"
   ]
  },
  {
   "cell_type": "markdown",
   "metadata": {},
   "source": [
    "Do the same without using user-defined functions, but exploiting only the Python data structures."
   ]
  },
  {
   "cell_type": "code",
   "execution_count": 7,
   "metadata": {},
   "outputs": [
    {
     "name": "stdout",
     "output_type": "stream",
     "text": [
      "Unique list : [58, 74, 96, 64, 10, 24, 19, 33, 86, 99, 18, 47, 88, 55, 54, 8, 79, 81, 57, 37, 1, 9, 95, 90, 98, 39, 16, 82, 92, 41, 30, 94, 5, 72, 87, 75, 53]\n",
      "Unique numbers : 37\n"
     ]
    }
   ],
   "source": [
    "l = [36, 45, 58, 3, 74, 96, 64, 45, 31, 10, 24, 19, 33, 86, 99, 18, 63, 70, 85,\n",
    " 85, 63, 47, 56, 42, 70, 84, 88, 55, 20, 54, 8, 56, 51, 79, 81, 57, 37, 91,\n",
    " 1, 84, 84, 36, 66, 9, 89, 50, 42, 91, 50, 95, 90, 98, 39, 16, 82, 31, 92, 41,\n",
    " 45, 30, 66, 70, 34, 85, 94, 5, 3, 36, 72, 91, 84, 34, 87, 75, 53, 51, 20, 89, 51, 20]\n",
    "\n",
    "l1 = []\n",
    "n = len(l)\n",
    "count = 0\n",
    "for i in range(0, len(l)):\n",
    "    k = 0\n",
    "    rep = 0\n",
    "    for k in range(0, len(l)):\n",
    "        if k != i and l[k] == l[i]:\n",
    "            rep = rep+1\n",
    "    if rep == 0:\n",
    "        l1 = l1+[l[i]]\n",
    "        count += 1 \n",
    "print(\"Unique list :\", l1)\n",
    "print(\"Unique numbers :\", count)"
   ]
  },
  {
   "cell_type": "markdown",
   "metadata": {},
   "source": [
    "6\\. Combination of functions\n",
    "\n",
    "Write two functions - one that returns the square of a number, and one that returns the cube. Now write a third function that returns the number raised to the 6th power using the two previous functions."
   ]
  },
  {
   "cell_type": "code",
   "execution_count": 8,
   "metadata": {},
   "outputs": [
    {
     "name": "stdout",
     "output_type": "stream",
     "text": [
      "x^2 =  16\n",
      "x^3 =  64\n",
      "x^6 =  4096\n"
     ]
    }
   ],
   "source": [
    "#x = int(input(\"set the value of x = \"))\n",
    "\n",
    "x = 4\n",
    "\n",
    "def mysquare(x):\n",
    "    square = x*x\n",
    "    return square\n",
    "\n",
    "def mycube(x):\n",
    "    cube = x*x*x\n",
    "    return cube\n",
    "\n",
    "\n",
    "print(\"x^2 = \", mysquare(x))\n",
    "print(\"x^3 = \", mycube(x))\n",
    "\n",
    "y = mysquare(x)*mycube(x)*x\n",
    "print(\"x^6 = \", y)"
   ]
  },
  {
   "cell_type": "markdown",
   "metadata": {},
   "source": [
    "7\\. Cubes\n",
    "\n",
    "Create a list of the cubes of x for x in *[0, 10]* using:\n",
    "\n",
    "a) a for loop\n",
    "\n",
    "b) a list comprehension"
   ]
  },
  {
   "cell_type": "code",
   "execution_count": 9,
   "metadata": {},
   "outputs": [
    {
     "name": "stdout",
     "output_type": "stream",
     "text": [
      "[0, 1, 8, 27, 64, 125, 216, 343, 512, 729, 1000]\n",
      "[0, 1, 8, 27, 64, 125, 216, 343, 512, 729, 1000]\n"
     ]
    }
   ],
   "source": [
    "list = []\n",
    "for i in range(0,11):\n",
    "    list.append(i*i*i)\n",
    "print(\"List of cubes =\", list)\n",
    "\n",
    "cube_list = [x*x*x for x in range(11)]\n",
    "print(\"List of cubes =\", cube_list)"
   ]
  },
  {
   "cell_type": "markdown",
   "metadata": {},
   "source": [
    "8\\. Nested list comprehension\n",
    "\n",
    "A Pythagorean triple is an integer solution to the Pythagorean theorem $a^2+b^2=c^2$. The first Pythagorean triple is (3,4,5). Find and put in a tuple all unique Pythagorean triples for the positive integers a, b and c less than 100."
   ]
  },
  {
   "cell_type": "code",
   "execution_count": 10,
   "metadata": {
    "scrolled": false
   },
   "outputs": [
    {
     "name": "stdout",
     "output_type": "stream",
     "text": [
      "Pythagorean triples less than 100 =  [(5, 3, 4), (13, 5, 12), (10, 6, 8), (25, 7, 24), (17, 8, 15), (15, 9, 12), (41, 9, 40), (26, 10, 24), (61, 11, 60), (20, 12, 16), (37, 12, 35), (85, 13, 84), (50, 14, 48), (25, 15, 20), (39, 15, 36), (34, 16, 30), (65, 16, 63), (30, 18, 24), (82, 18, 80), (29, 20, 21), (52, 20, 48), (35, 21, 28), (75, 21, 72), (40, 24, 32), (51, 24, 45), (74, 24, 70), (65, 25, 60), (45, 27, 36), (53, 28, 45), (50, 30, 40), (78, 30, 72), (68, 32, 60), (55, 33, 44), (65, 33, 56), (91, 35, 84), (60, 36, 48), (85, 36, 77), (65, 39, 52), (89, 39, 80), (58, 40, 42), (85, 40, 75), (70, 42, 56), (75, 45, 60), (73, 48, 55), (80, 48, 64), (85, 51, 68), (90, 54, 72), (95, 57, 76), (87, 60, 63), (97, 65, 72)]\n"
     ]
    }
   ],
   "source": [
    "import math\n",
    "\n",
    "\n",
    "list = []\n",
    "for c1 in range(1,100):\n",
    "    for c2 in range(c1,100):\n",
    "        ip = math.sqrt((c1)**2 + (c2)**2)\n",
    "        ip_int = int(ip)\n",
    "        if (ip-ip_int == 0 and ip < 100 ):\n",
    "            triples = (ip_int, c1, c2)\n",
    "            list.append(triples)\n",
    "print(\"Pythagorean triples less than 100 = \", list)\n"
   ]
  },
  {
   "cell_type": "markdown",
   "metadata": {},
   "source": [
    "9\\. Normalization\n",
    "\n",
    "Write a function that takes a tuple of numbers and returns it with the entries normalized to one"
   ]
  },
  {
   "cell_type": "code",
   "execution_count": 11,
   "metadata": {},
   "outputs": [
    {
     "name": "stdout",
     "output_type": "stream",
     "text": [
      "Normalized entries:  (0.0, 0.25, 1.0, 0.5, 0.75, 0.25)\n"
     ]
    }
   ],
   "source": [
    "s = (2, 4, 10, 6, 8, 4)\n",
    "\n",
    "def normalize(s):\n",
    "    s_max = s[1]\n",
    "    if s[0] >= s[1]:\n",
    "            s_max = s[0]\n",
    "    for i in range(2,len(s)):          \n",
    "        if s[i] >= s_max:           #searching for max value of s\n",
    "            s_max = s[i]\n",
    "\n",
    "    s_min = s[1]\n",
    "    if s[0] <= s[1]:\n",
    "            s_min = s[0]\n",
    "    for i in range(2,len(s)):\n",
    "        if s[i] <= s_min:             #searching for min value of s\n",
    "            s_min = s[i]\n",
    "\n",
    "    norm = (s[0]-s_min) / (s_max-s_min)            \n",
    "    tp = (norm,)\n",
    "    for i in range(1,len(s)):          #normalization of s\n",
    "        value = s[i]\n",
    "        norm = (value-s_min) / (s_max-s_min)\n",
    "        tp_temp = (norm,)\n",
    "        tp = (tp+tp_temp)\n",
    "    return tp\n",
    "\n",
    "\n",
    "print(\"Normalized entries: \", normalize(s))"
   ]
  },
  {
   "cell_type": "code",
   "execution_count": null,
   "metadata": {},
   "outputs": [],
   "source": []
  }
 ],
 "metadata": {
  "kernelspec": {
   "display_name": "Python 3",
   "language": "python",
   "name": "python3"
  },
  "language_info": {
   "codemirror_mode": {
    "name": "ipython",
    "version": 3
   },
   "file_extension": ".py",
   "mimetype": "text/x-python",
   "name": "python",
   "nbconvert_exporter": "python",
   "pygments_lexer": "ipython3",
   "version": "3.9.5"
  }
 },
 "nbformat": 4,
 "nbformat_minor": 2
}
