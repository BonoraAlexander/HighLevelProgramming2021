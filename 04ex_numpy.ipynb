{
 "cells": [
  {
   "cell_type": "markdown",
   "metadata": {},
   "source": [
    "1\\. Find the total mean, and the mean for each row and column of the following matrix:\n",
    "\n",
    "```python\n",
    "m = np.arange(12).reshape((3,4))\n",
    "```"
   ]
  },
  {
   "cell_type": "code",
   "execution_count": 1,
   "metadata": {},
   "outputs": [
    {
     "name": "stdout",
     "output_type": "stream",
     "text": [
      "[[ 0  1  2  3]\n",
      " [ 4  5  6  7]\n",
      " [ 8  9 10 11]]\n",
      "\n",
      "Mean: 5.5 5.5\n",
      "Mean along the columns: [4. 5. 6. 7.]\n",
      "Mean along the rows: [1.5 5.5 9.5]\n"
     ]
    }
   ],
   "source": [
    "import numpy as np\n",
    "\n",
    "m = np.arange(12).reshape((3,4))\n",
    "print(m)\n",
    "\n",
    "print (\"\\nMean:\", m.mean(), np.mean(m))\n",
    "\n",
    "print (\"Mean along the columns:\", m.mean(axis=0))\n",
    "\n",
    "print (\"Mean along the rows:\", m.mean(axis=1))"
   ]
  },
  {
   "cell_type": "markdown",
   "metadata": {},
   "source": [
    "2\\. Find the outer product of the following vectors:\n",
    "\n",
    "```python\n",
    "u = np.array([1, 3, 5, 7])\n",
    "v = np.array([2, 4, 6, 8])\n",
    "```\n",
    "\n",
    "Use different methods to do this:\n",
    "\n",
    "   1. Using the function `outer` in numpy\n",
    "   2. Using a nested `for` loop or a list comprehension\n",
    "   3. Using numpy broadcasting operations"
   ]
  },
  {
   "cell_type": "code",
   "execution_count": 2,
   "metadata": {},
   "outputs": [
    {
     "name": "stdout",
     "output_type": "stream",
     "text": [
      "a)\n",
      "Numpy outer Product of the two array is:\n",
      "[[ 2  4  6  8]\n",
      " [ 6 12 18 24]\n",
      " [10 20 30 40]\n",
      " [14 28 42 56]]\n",
      "\n",
      "b)\n",
      "Nested for outer Product of the two array is :\n",
      "[[ 2  4  6  8]\n",
      " [ 6 12 18 24]\n",
      " [10 20 30 40]\n",
      " [14 28 42 56]]\n",
      "\n",
      "c)\n",
      "Broadcasted outer product of the two array is : \n",
      " [[ 2  4  6  8]\n",
      " [ 6 12 18 24]\n",
      " [10 20 30 40]\n",
      " [14 28 42 56]] \n",
      "\n"
     ]
    }
   ],
   "source": [
    "import numpy as np\n",
    "from numpy import array, newaxis\n",
    "\n",
    "u = np.array([1, 3, 5, 7])\n",
    "v = np.array([2, 4, 6, 8])\n",
    "\n",
    "print(\"a)\")\n",
    "print(\"Numpy outer Product of the two array is:\")\n",
    "print(np.outer(u,v))\n",
    "\n",
    "print(\"\\nb)\")\n",
    "\n",
    "outer_prod = np.array([], \"int\")\n",
    "\n",
    "for i in range(len(u)):\n",
    "    for k in range(len(v)):           #using nested for loop\n",
    "        res = np.array([u[i]*v[k]])\n",
    "        outer_prod = np.concatenate((outer_prod, res))\n",
    "\n",
    "print(\"Nested for outer Product of the two array is :\")\n",
    "print(outer_prod.reshape((len(u), len(v))))\n",
    "        \n",
    "\n",
    "print(\"\\nc)\")\n",
    "\n",
    "print (\"Broadcasted outer product of the two array is :\",'\\n',u[:,newaxis]*v,'\\n')\n"
   ]
  },
  {
   "cell_type": "markdown",
   "metadata": {},
   "source": [
    "3\\. Create a 10 by 6 matrix of increasing float numbers, starting from zero and increasing in each step by 0.1, so the output matrix looks like the following:\n",
    "\n",
    "```python\n",
    "m = [[0. 0.1, 0.2 0.3 ... 0.9]\n",
    "     [1.0 1.1 1.2 1.3 ... 1.9]\n",
    "     ...\n",
    "     [5.0 5.1 5.2 5.3 ... 5.9]]\n",
    "```\n",
    "After creating the matrix, set all entries with a decimal part $< 0.4$ to zero."
   ]
  },
  {
   "cell_type": "code",
   "execution_count": 3,
   "metadata": {},
   "outputs": [
    {
     "name": "stdout",
     "output_type": "stream",
     "text": [
      "\n",
      "10 by 6 matrix of increasing float numbers array: \n",
      " [[0.  0.1 0.2 0.3 0.4 0.5 0.6 0.7 0.8 0.9]\n",
      " [1.  1.1 1.2 1.3 1.4 1.5 1.6 1.7 1.8 1.9]\n",
      " [2.  2.1 2.2 2.3 2.4 2.5 2.6 2.7 2.8 2.9]\n",
      " [3.  3.1 3.2 3.3 3.4 3.5 3.6 3.7 3.8 3.9]\n",
      " [4.  4.1 4.2 4.3 4.4 4.5 4.6 4.7 4.8 4.9]\n",
      " [5.  5.1 5.2 5.3 5.4 5.5 5.6 5.7 5.8 5.9]]\n",
      "\n",
      "Modified array: \n",
      " [[0.  0.  0.  0.  0.  0.5 0.6 0.7 0.8 0.9]\n",
      " [0.  0.  0.  0.  0.  1.5 1.6 1.7 1.8 1.9]\n",
      " [0.  0.  0.  0.  0.  2.5 2.6 2.7 2.8 2.9]\n",
      " [0.  0.  0.  0.  0.  3.5 3.6 3.7 3.8 3.9]\n",
      " [0.  0.  0.  0.  0.  4.5 4.6 4.7 4.8 4.9]\n",
      " [0.  0.  0.  0.  0.  5.5 5.6 5.7 5.8 5.9]]\n"
     ]
    }
   ],
   "source": [
    "outer_prod = np.array([], \"float32\")\n",
    "\n",
    "for i in range(6):\n",
    "    temp = np.arange(i, i+1, 0.1)\n",
    "    outer_prod = np.concatenate((outer_prod, temp))\n",
    "print(\"\\n10 by 6 matrix of increasing float numbers array:\", \"\\n\", outer_prod.reshape(6,10))\n",
    "\n",
    "outer_prod[outer_prod%1 < 0.49] = 0\n",
    "print (\"\\nModified array:\", \"\\n\", outer_prod.reshape(6,10))"
   ]
  },
  {
   "cell_type": "markdown",
   "metadata": {},
   "source": [
    "4\\. Use `np.linspace` to create an array of 100 numbers between 0 and 2π (inclusive).\n",
    "\n",
    "  * Extract every 10th element using the slice notation\n",
    "  * Reverse the array using the slice notation\n",
    "  * Extract elements where the absolute difference between the sin and cos functions evaluated for that element is $< 0.1$\n",
    "  * **Optional**: make a plot showing the sin and cos functions and indicate where they are close"
   ]
  },
  {
   "cell_type": "code",
   "execution_count": 4,
   "metadata": {},
   "outputs": [
    {
     "name": "stdout",
     "output_type": "stream",
     "text": [
      "\n",
      "Created array: \n",
      " [[0.         0.06346652 0.12693304 0.19039955 0.25386607 0.31733259\n",
      "  0.38079911 0.44426563 0.50773215 0.57119866]\n",
      " [0.63466518 0.6981317  0.76159822 0.82506474 0.88853126 0.95199777\n",
      "  1.01546429 1.07893081 1.14239733 1.20586385]\n",
      " [1.26933037 1.33279688 1.3962634  1.45972992 1.52319644 1.58666296\n",
      "  1.65012947 1.71359599 1.77706251 1.84052903]\n",
      " [1.90399555 1.96746207 2.03092858 2.0943951  2.15786162 2.22132814\n",
      "  2.28479466 2.34826118 2.41172769 2.47519421]\n",
      " [2.53866073 2.60212725 2.66559377 2.72906028 2.7925268  2.85599332\n",
      "  2.91945984 2.98292636 3.04639288 3.10985939]\n",
      " [3.17332591 3.23679243 3.30025895 3.36372547 3.42719199 3.4906585\n",
      "  3.55412502 3.61759154 3.68105806 3.74452458]\n",
      " [3.8079911  3.87145761 3.93492413 3.99839065 4.06185717 4.12532369\n",
      "  4.1887902  4.25225672 4.31572324 4.37918976]\n",
      " [4.44265628 4.5061228  4.56958931 4.63305583 4.69652235 4.75998887\n",
      "  4.82345539 4.88692191 4.95038842 5.01385494]\n",
      " [5.07732146 5.14078798 5.2042545  5.26772102 5.33118753 5.39465405\n",
      "  5.45812057 5.52158709 5.58505361 5.64852012]\n",
      " [5.71198664 5.77545316 5.83891968 5.9023862  5.96585272 6.02931923\n",
      "  6.09278575 6.15625227 6.21971879 6.28318531]]\n",
      "\n",
      "10th element array: \n",
      " [0.         0.63466518 1.26933037 1.90399555 2.53866073 3.17332591\n",
      " 3.8079911  4.44265628 5.07732146 5.71198664]\n",
      "\n",
      "Reversed 10th element array: \n",
      " [5.71198664 5.07732146 4.44265628 3.8079911  3.17332591 2.53866073\n",
      " 1.90399555 1.26933037 0.63466518 0.        ]\n",
      "\n",
      "Filtered array: \n",
      " [0.7615982190520711, 0.8250647373064104, 3.8714576135146945, 3.934924131769034]\n",
      "\n",
      "Optional point explanation: \n",
      "The green and purple dots are the points where the sin and cos functions are closest.\n"
     ]
    },
    {
     "data": {
      "image/png": "[encoded data removed]",
      "text/plain": [
       "<Figure size 432x288 with 1 Axes>"
      ]
     },
     "metadata": {
      "needs_background": "light"
     },
     "output_type": "display_data"
    }
   ],
   "source": [
    "import matplotlib.pyplot as plt\n",
    "import math\n",
    "\n",
    "created_array = np.linspace(0, 2*np.pi, 100)\n",
    "print(\"\\nCreated array:\", \"\\n\",created_array.reshape(10,10))\n",
    "\n",
    "print(\"\\n10th element array:\", \"\\n\",created_array[::10])\n",
    "\n",
    "print(\"\\nReversed 10th element array:\", \"\\n\",created_array[90::-10])\n",
    "\n",
    "\n",
    "filtered_sin = (np.sin(created_array))\n",
    "filtered_cos = (np.cos(created_array))\n",
    "filtered_list = []\n",
    "\n",
    "for i in range(len(created_array)):\n",
    "    if abs(filtered_sin[i]-filtered_cos[i]) < 0.1:\n",
    "        filtered_list.append(created_array[i])\n",
    "print(\"\\nFiltered array:\", \"\\n\", filtered_list)\n",
    "\n",
    "plt.plot(created_array, filtered_sin);\n",
    "plt.plot(created_array, filtered_cos);\n",
    "\n",
    "for i in filtered_list:\n",
    "    plt.plot(i, np.sin(i),marker=\"o\", color=\"green\");\n",
    "    plt.plot(i, np.cos(i),marker=\"o\", color=\"purple\");\n",
    " \n",
    "\n",
    "print(\"\\nOptional point explanation: \\nThe green and purple dots are the points where the sin and cos functions are closest.\")"
   ]
  },
  {
   "cell_type": "markdown",
   "metadata": {},
   "source": [
    "5\\. Create a matrix that shows the 10 by 10 multiplication table.\n",
    "\n",
    " * Find the trace of the matrix\n",
    " * Extract the anti-diagonal matrix (this should be ```array([10, 18, 24, 28, 30, 30, 28, 24, 18, 10])```)\n",
    " * Extract the diagonal offset by 1 upwards (this should be ```array([ 2,  6, 12, 20, 30, 42, 56, 72, 90])```)"
   ]
  },
  {
   "cell_type": "code",
   "execution_count": 5,
   "metadata": {},
   "outputs": [
    {
     "name": "stdout",
     "output_type": "stream",
     "text": [
      "Matrix that shows the 10 by 10 multiplication table:\n",
      " [[  1.   2.   3.   4.   5.   6.   7.   8.   9.  10.]\n",
      " [  2.   4.   6.   8.  10.  12.  14.  16.  18.  20.]\n",
      " [  3.   6.   9.  12.  15.  18.  21.  24.  27.  30.]\n",
      " [  4.   8.  12.  16.  20.  24.  28.  32.  36.  40.]\n",
      " [  5.  10.  15.  20.  25.  30.  35.  40.  45.  50.]\n",
      " [  6.  12.  18.  24.  30.  36.  42.  48.  54.  60.]\n",
      " [  7.  14.  21.  28.  35.  42.  49.  56.  63.  70.]\n",
      " [  8.  16.  24.  32.  40.  48.  56.  64.  72.  80.]\n",
      " [  9.  18.  27.  36.  45.  54.  63.  72.  81.  90.]\n",
      " [ 10.  20.  30.  40.  50.  60.  70.  80.  90. 100.]]\n",
      "\n",
      "Trace of the matrix:\n",
      " 385.0\n",
      "\n",
      "Anti-diagonal of matrix:\n",
      " [10. 18. 24. 28. 30. 30. 28. 24. 18. 10.]\n",
      "\n",
      "Diagonal offset by 1 upwards of matrix:\n",
      " [ 2.  6. 12. 20. 30. 42. 56. 72. 90.]\n"
     ]
    }
   ],
   "source": [
    "array_0_10 = np.arange(1,11)\n",
    "matrix_10x10 = np.zeros(100)\n",
    "\n",
    "counter = 0\n",
    "for i in range(len(array_0_10)):\n",
    "    for k in range(len(array_0_10)):\n",
    "        matrix_10x10[counter] = (array_0_10[i]*array_0_10[k])\n",
    "        counter += 1\n",
    "print(\"Matrix that shows the 10 by 10 multiplication table:\\n\", matrix_10x10.reshape(10,10))\n",
    "\n",
    "diag = matrix_10x10[0:100:11]\n",
    "diag_sum = sum(diag)\n",
    "print(\"\\nTrace of the matrix:\\n\", diag_sum)\n",
    "\n",
    "anti_diag = matrix_10x10[9:91:9]\n",
    "print(\"\\nAnti-diagonal of matrix:\\n\", anti_diag)\n",
    "\n",
    "offset_1_diag = matrix_10x10[1:90:11]\n",
    "print(\"\\nDiagonal offset by 1 upwards of matrix:\\n\", offset_1_diag)"
   ]
  },
  {
   "cell_type": "markdown",
   "metadata": {},
   "source": [
    "6\\. Use broadcasting to create a grid of distances.\n",
    "\n",
    "Route 66 crosses the following cities in the US: Chicago, Springfield, Saint-Louis, Tulsa, Oklahoma City, Amarillo, Santa Fe, Albuquerque, Flagstaff, Los Angeles\n",
    "The corresponding positions in miles are: 0, 198, 303, 736, 871, 1175, 1475, 1544, 1913, 2448\n",
    "\n",
    "  * Build a 2D grid of distances among each city along Route 66\n",
    "  * Convert the distances in km"
   ]
  },
  {
   "cell_type": "code",
   "execution_count": 6,
   "metadata": {},
   "outputs": [
    {
     "name": "stdout",
     "output_type": "stream",
     "text": [
      "Ch      Sp      SL      Tu      OKC      A      SF      Alb      Fl      LA      \n",
      "0   \t198 \t303 \t736 \t871 \t1175\t1475\t1544\t1913\t2448\tChicago      \n",
      "198 \t0   \t105 \t538 \t673 \t977 \t1277\t1346\t1715\t2250\tSpringfield  \n",
      "303 \t105 \t0   \t433 \t568 \t872 \t1172\t1241\t1610\t2145\tSaint-Louis  \n",
      "736 \t538 \t433 \t0   \t135 \t439 \t739 \t808 \t1177\t1712\tTulsa        \n",
      "871 \t673 \t568 \t135 \t0   \t304 \t604 \t673 \t1042\t1577\tOklahoma City\n",
      "1175\t977 \t872 \t439 \t304 \t0   \t300 \t369 \t738 \t1273\tAmarillo     \n",
      "1475\t1277\t1172\t739 \t604 \t300 \t0   \t69  \t438 \t973 \tSanta Fe     \n",
      "1544\t1346\t1241\t808 \t673 \t369 \t69  \t0   \t369 \t904 \tAlbuquerque  \n",
      "1913\t1715\t1610\t1177\t1042\t738 \t438 \t369 \t0   \t535 \tFlagstaff    \n",
      "2448\t2250\t2145\t1712\t1577\t1273\t973 \t904 \t535 \t0   \tLos Angeles  \n",
      "\n",
      " Ch      Sp      SL      Tu      OKC      A      SF      Alb      Fl      LA      \n",
      "0.0   \t316.8 \t484.8 \t1177.6\t1393.6\t1880.0\t2360.0\t2470.4\t3060.8\t3916.8\tChicago      \n",
      "316.8 \t0.0   \t168.0 \t860.8 \t1076.8\t1563.2\t2043.2\t2153.6\t2744.0\t3600.0\tSpringfield  \n",
      "484.8 \t168.0 \t0.0   \t692.8 \t908.8 \t1395.2\t1875.2\t1985.6\t2576.0\t3432.0\tSaint-Louis  \n",
      "1177.6\t860.8 \t692.8 \t0.0   \t216.0 \t702.4 \t1182.4\t1292.8\t1883.2\t2739.2\tTulsa        \n",
      "1393.6\t1076.8\t908.8 \t216.0 \t0.0   \t486.4 \t966.4 \t1076.8\t1667.2\t2523.2\tOklahoma City\n",
      "1880.0\t1563.2\t1395.2\t702.4 \t486.4 \t0.0   \t480.0 \t590.4 \t1180.8\t2036.8\tAmarillo     \n",
      "2360.0\t2043.2\t1875.2\t1182.4\t966.4 \t480.0 \t0.0   \t110.4 \t700.8 \t1556.8\tSanta Fe     \n",
      "2470.4\t2153.6\t1985.6\t1292.8\t1076.8\t590.4 \t110.4 \t0.0   \t590.4 \t1446.4\tAlbuquerque  \n",
      "3060.8\t2744.0\t2576.0\t1883.2\t1667.2\t1180.8\t700.8 \t590.4 \t0.0   \t856.0 \tFlagstaff    \n",
      "3916.8\t3600.0\t3432.0\t2739.2\t2523.2\t2036.8\t1556.8\t1446.4\t856.0 \t0.0   \tLos Angeles  \n"
     ]
    }
   ],
   "source": [
    "cities = np.array([\"Chicago\", \"Springfield\", \"Saint-Louis\", \"Tulsa\", \"Oklahoma City\", \"Amarillo\", \"Santa Fe\", \"Albuquerque\", \"Flagstaff\", \"Los Angeles\"])\n",
    "cities2 = np.array([\"Ch\", \"Sp\", \"SL\", \"Tu\", \"OKC\", \"A\", \"SF\", \"Alb\", \"Fl\", \"LA\", \"\"])  #second array for nicer print\n",
    "cities_distances = np.array([0, 198, 303, 736, 871, 1175, 1475, 1544, 1913, 2448], \"int\")\n",
    "\n",
    "broadcasted_matrix = np.tile(np.array([0, 198, 303, 736, 871, 1175, 1475, 1544, 1913, 2448], \"int\"), (10, 1)).T\n",
    "\n",
    "broadcasted_matrix = abs((broadcasted_matrix[0:10:1])-cities_distances)\n",
    "\n",
    "result1 = np.hstack((broadcasted_matrix, np.atleast_2d(cities).T))\n",
    "\n",
    "#nice print\n",
    "print(\"      \".join(str(i) for i in cities2))\n",
    "s = [[str(e) for e in row] for row in result1]\n",
    "lens = [max(map(len, col)) for col in zip(*s)]\n",
    "fmt = \"\\t\".join(\"{{:{}}}\".format(x) for x in lens)\n",
    "table = [fmt.format(*row) for row in s]\n",
    "print (\"\\n\".join(table))\n",
    "\n",
    "def convertion(miles):\n",
    "    km = miles * 1.6  # approximately 1.6 km in 1 mile\n",
    "    return km \n",
    "\n",
    "#nice print\n",
    "print(\"\\n\", \"      \".join(str(i) for i in cities2))\n",
    "result2 = np.hstack((np.around(convertion(broadcasted_matrix), decimals=1), np.atleast_2d(cities).T))\n",
    "s = [[str(e) for e in row] for row in result2]\n",
    "lens = [max(map(len, col)) for col in zip(*s)]\n",
    "fmt = \"\\t\".join(\"{{:{}}}\".format(x) for x in lens)\n",
    "table = [fmt.format(*row) for row in s]\n",
    "print (\"\\n\".join(table))\n",
    "\n"
   ]
  },
  {
   "cell_type": "markdown",
   "metadata": {},
   "source": [
    "7\\. Prime numbers sieve: compute the prime numbers in the 0-N (start with N=99) range with a sieve (mask).\n",
    "  * Check the performances (timeit); how does it scale with N?\n",
    "  * Implement the optimization suggested in the [sieve of Eratosthenes](https://en.wikipedia.org/wiki/Sieve_of_Eratosthenes)"
   ]
  },
  {
   "cell_type": "code",
   "execution_count": 7,
   "metadata": {},
   "outputs": [
    {
     "name": "stdout",
     "output_type": "stream",
     "text": [
      "297 µs ± 2.33 µs per loop (mean ± std. dev. of 7 runs, 1000 loops each)\n",
      "1.01 µs ± 61.3 ns per loop (mean ± std. dev. of 7 runs, 1000000 loops each)\n"
     ]
    }
   ],
   "source": [
    "# standard python\n",
    "L = range(1000)\n",
    "%timeit [i**2 for i in L]\n",
    "\n",
    "# numpy\n",
    "a = np.arange(1000)\n",
    "%timeit a**2"
   ]
  },
  {
   "cell_type": "code",
   "execution_count": 8,
   "metadata": {},
   "outputs": [
    {
     "name": "stdout",
     "output_type": "stream",
     "text": [
      "Time for 99 prime numbers:\n",
      "69.5 µs ± 521 ns per loop (mean ± std. dev. of 7 runs, 10000 loops each)\n",
      "\n",
      "Time for 999 prime numbers:\n",
      "4.25 ms ± 16.7 µs per loop (mean ± std. dev. of 7 runs, 100 loops each)\n",
      "\n",
      "Time for 9999 prime numbers:\n",
      "357 ms ± 3.35 ms per loop (mean ± std. dev. of 7 runs, 1 loop each)\n",
      "\n",
      "Time for sieve of Eratosthenes optimization to compute the prime numbers in the 0-99 interval:\n",
      "201 ns ± 3.12 ns per loop (mean ± std. dev. of 7 runs, 10000000 loops each)\n"
     ]
    }
   ],
   "source": [
    "lower1 = 0\n",
    "upper1 = 99\n",
    "\n",
    "#simple prime nubers algorithm\n",
    "def prime_numbers(start, finish):\n",
    "    list = []\n",
    "    for num in range(start, finish + 1):\n",
    "        if num > 1:\n",
    "            for i in range(2, num):\n",
    "                if (num % i) == 0:\n",
    "                    break\n",
    "            else:\n",
    "                list.append(num)\n",
    "    return(list)\n",
    "\n",
    "#\"Prime numbers between\", lower1, \"and\", upper1, \"are:\", prime_numbers(lower, upper))\n",
    "print(\"Time for 99 prime numbers:\")\n",
    "%timeit prime_numbers(lower1, upper1)\n",
    "\n",
    "\n",
    "lower2 = 0\n",
    "upper2 = 999\n",
    "\n",
    "#Prime numbers between\", lower2, \"and\", upper2, \"are:\", prime_numbers(lower2, upper2))\n",
    "print(\"\\nTime for 999 prime numbers:\")\n",
    "%timeit prime_numbers(lower2, upper2)\n",
    "\n",
    "\n",
    "lower3 = 0\n",
    "upper3 = 9999\n",
    "\n",
    "\n",
    "#print(\"Prime numbers between\", lower3, \"and\", upper3, \"are:\", prime_numbers(lower3, upper3))  \n",
    "print(\"\\nTime for 9999 prime numbers:\")\n",
    "%timeit prime_numbers(lower3, upper3)\n",
    "\n",
    "#Sieve of Eratosthenes function\n",
    "def primes_sieve(limit):\n",
    "    a = [True] * limit                        \n",
    "    a[0] = a[1] = False\n",
    "\n",
    "    for (i, isprime) in enumerate(a):\n",
    "        if isprime:\n",
    "            yield i\n",
    "            for n in range(i*i, limit, i):\n",
    "                a[n] = False\n",
    "\n",
    "upper4 = 99\n",
    "\n",
    "print(\"\\nTime for sieve of Eratosthenes optimization to compute the prime numbers in the 0-99 interval:\")\n",
    "%timeit primes_sieve(upper4)"
   ]
  },
  {
   "cell_type": "code",
   "execution_count": null,
   "metadata": {},
   "outputs": [],
   "source": []
  }
 ],
 "metadata": {
  "kernelspec": {
   "display_name": "Python 3",
   "language": "python",
   "name": "python3"
  },
  "language_info": {
   "codemirror_mode": {
    "name": "ipython",
    "version": 3
   },
   "file_extension": ".py",
   "mimetype": "text/x-python",
   "name": "python",
   "nbconvert_exporter": "python",
   "pygments_lexer": "ipython3",
   "version": "3.9.5"
  }
 },
 "nbformat": 4,
 "nbformat_minor": 2
}
